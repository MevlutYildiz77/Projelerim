{
 "cells": [
  {
   "cell_type": "code",
   "execution_count": 6,
   "metadata": {},
   "outputs": [
    {
     "ename": "ModuleNotFoundError",
     "evalue": "No module named 'cvlib'",
     "output_type": "error",
     "traceback": [
      "\u001b[1;31m---------------------------------------------------------------------------\u001b[0m",
      "\u001b[1;31mModuleNotFoundError\u001b[0m                       Traceback (most recent call last)",
      "\u001b[1;32mc:\\Users\\TOSHIBA\\Desktop\\Projelerim\\Gender Detection\\GenderDetection.ipynb Cell 1\u001b[0m in \u001b[0;36m<cell line: 2>\u001b[1;34m()\u001b[0m\n\u001b[0;32m      <a href='vscode-notebook-cell:/c%3A/Users/TOSHIBA/Desktop/Projelerim/Gender%20Detection/GenderDetection.ipynb#W0sZmlsZQ%3D%3D?line=0'>1</a>\u001b[0m \u001b[39mimport\u001b[39;00m \u001b[39mcv2\u001b[39;00m\n\u001b[1;32m----> <a href='vscode-notebook-cell:/c%3A/Users/TOSHIBA/Desktop/Projelerim/Gender%20Detection/GenderDetection.ipynb#W0sZmlsZQ%3D%3D?line=1'>2</a>\u001b[0m \u001b[39mimport\u001b[39;00m \u001b[39mcvlib\u001b[39;00m \u001b[39mas\u001b[39;00m \u001b[39mcv\u001b[39;00m\n\u001b[0;32m      <a href='vscode-notebook-cell:/c%3A/Users/TOSHIBA/Desktop/Projelerim/Gender%20Detection/GenderDetection.ipynb#W0sZmlsZQ%3D%3D?line=2'>3</a>\u001b[0m \u001b[39mimport\u001b[39;00m \u001b[39msys\u001b[39;00m\n\u001b[0;32m      <a href='vscode-notebook-cell:/c%3A/Users/TOSHIBA/Desktop/Projelerim/Gender%20Detection/GenderDetection.ipynb#W0sZmlsZQ%3D%3D?line=3'>4</a>\u001b[0m \u001b[39mimport\u001b[39;00m \u001b[39mnumpy\u001b[39;00m \u001b[39mas\u001b[39;00m \u001b[39mnp\u001b[39;00m\n",
      "\u001b[1;31mModuleNotFoundError\u001b[0m: No module named 'cvlib'"
     ]
    }
   ],
   "source": [
    "import cv2\n",
    "import cvlib as cv\n",
    "import sys\n",
    "import numpy as np\n",
    "from numpy.lib.type_check import imag"
   ]
  },
  {
   "cell_type": "code",
   "execution_count": 4,
   "metadata": {},
   "outputs": [
    {
     "data": {
      "text/plain": [
       "array([[[114, 116, 116],\n",
       "        [115, 118, 117],\n",
       "        [105, 108, 108],\n",
       "        ...,\n",
       "        [215, 190, 163],\n",
       "        [216, 192, 165],\n",
       "        [217, 192, 165]],\n",
       "\n",
       "       [[104, 108, 107],\n",
       "        [ 80,  85,  84],\n",
       "        [ 71,  76,  75],\n",
       "        ...,\n",
       "        [222, 198, 170],\n",
       "        [223, 199, 171],\n",
       "        [223, 199, 171]],\n",
       "\n",
       "       [[ 81,  85,  84],\n",
       "        [ 76,  81,  80],\n",
       "        [ 70,  75,  74],\n",
       "        ...,\n",
       "        [221, 197, 169],\n",
       "        [221, 197, 169],\n",
       "        [223, 199, 171]],\n",
       "\n",
       "       ...,\n",
       "\n",
       "       [[138, 137, 137],\n",
       "        [128, 126, 126],\n",
       "        [114, 112, 112],\n",
       "        ...,\n",
       "        [151, 129, 116],\n",
       "        [179, 156, 142],\n",
       "        [202, 178, 162]],\n",
       "\n",
       "       [[120, 118, 118],\n",
       "        [111, 107, 108],\n",
       "        [101,  98,  98],\n",
       "        ...,\n",
       "        [114,  94,  84],\n",
       "        [135, 114, 102],\n",
       "        [155, 133, 120]],\n",
       "\n",
       "       [[104, 100, 101],\n",
       "        [ 99,  94,  95],\n",
       "        [ 95,  90,  91],\n",
       "        ...,\n",
       "        [ 91,  72,  65],\n",
       "        [ 96,  77,  68],\n",
       "        [106,  86,  76]]], dtype=uint8)"
      ]
     },
     "execution_count": 4,
     "metadata": {},
     "output_type": "execute_result"
    }
   ],
   "source": [
    "image = cv2.imread(\"my_photo.png\")\n",
    "image"
   ]
  },
  {
   "cell_type": "code",
   "execution_count": 5,
   "metadata": {},
   "outputs": [
    {
     "ename": "NameError",
     "evalue": "name 'cv' is not defined",
     "output_type": "error",
     "traceback": [
      "\u001b[1;31m---------------------------------------------------------------------------\u001b[0m",
      "\u001b[1;31mNameError\u001b[0m                                 Traceback (most recent call last)",
      "\u001b[1;32mc:\\Users\\TOSHIBA\\Desktop\\Projelerim\\Gender Detection\\GenderDetection.ipynb Cell 3\u001b[0m in \u001b[0;36m<cell line: 1>\u001b[1;34m()\u001b[0m\n\u001b[1;32m----> <a href='vscode-notebook-cell:/c%3A/Users/TOSHIBA/Desktop/Projelerim/Gender%20Detection/GenderDetection.ipynb#W2sZmlsZQ%3D%3D?line=0'>1</a>\u001b[0m face, confidence \u001b[39m=\u001b[39m cv\u001b[39m.\u001b[39mdetect_face(image)\n",
      "\u001b[1;31mNameError\u001b[0m: name 'cv' is not defined"
     ]
    }
   ],
   "source": [
    "face, confidence = cv.detect_face(image)"
   ]
  }
 ],
 "metadata": {
  "kernelspec": {
   "display_name": "pythonProject",
   "language": "python",
   "name": "python3"
  },
  "language_info": {
   "codemirror_mode": {
    "name": "ipython",
    "version": 3
   },
   "file_extension": ".py",
   "mimetype": "text/x-python",
   "name": "python",
   "nbconvert_exporter": "python",
   "pygments_lexer": "ipython3",
   "version": "3.9.12"
  },
  "orig_nbformat": 4,
  "vscode": {
   "interpreter": {
    "hash": "45a60c048f4ccd6c48c495f838e9ad694b36421548fddd91d87e2ee8d4b585bd"
   }
  }
 },
 "nbformat": 4,
 "nbformat_minor": 2
}
