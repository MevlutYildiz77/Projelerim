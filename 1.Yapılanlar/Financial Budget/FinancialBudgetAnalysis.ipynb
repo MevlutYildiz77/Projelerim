{
 "cells": [
  {
   "cell_type": "code",
   "execution_count": 34,
   "metadata": {},
   "outputs": [],
   "source": [
    "import pandas as pd\n",
    "import numpy as np\n",
    "import matplotlib.pyplot as plt\n"
   ]
  },
  {
   "cell_type": "code",
   "execution_count": 35,
   "metadata": {},
   "outputs": [
    {
     "data": {
      "text/html": [
       "<div>\n",
       "<style scoped>\n",
       "    .dataframe tbody tr th:only-of-type {\n",
       "        vertical-align: middle;\n",
       "    }\n",
       "\n",
       "    .dataframe tbody tr th {\n",
       "        vertical-align: top;\n",
       "    }\n",
       "\n",
       "    .dataframe thead th {\n",
       "        text-align: right;\n",
       "    }\n",
       "</style>\n",
       "<table border=\"1\" class=\"dataframe\">\n",
       "  <thead>\n",
       "    <tr style=\"text-align: right;\">\n",
       "      <th></th>\n",
       "      <th>Category</th>\n",
       "      <th>Sl.No.</th>\n",
       "      <th>Ministry/Department</th>\n",
       "      <th>Scheme</th>\n",
       "      <th>Actuals2019-2020 - Revenue</th>\n",
       "      <th>Actuals2019-2020 - Capital</th>\n",
       "      <th>Actuals2019-2020 - Total</th>\n",
       "      <th>Budget Estimates2020-2021 - Revenue</th>\n",
       "      <th>Budget Estimates2020-2021 - Capital</th>\n",
       "      <th>Budget Estimates2020-2021 - Total</th>\n",
       "      <th>Revised Estimates2020-2021 - Revenue</th>\n",
       "      <th>Revised Estimates2020-2021 - Capital</th>\n",
       "      <th>Revised Estimates2020-2021 - Total</th>\n",
       "      <th>Budget Estimates2021-2022 - Revenue</th>\n",
       "      <th>Budget Estimates2021-2022 - Capital</th>\n",
       "      <th>Budget Estimates2021-2022 - Total</th>\n",
       "    </tr>\n",
       "  </thead>\n",
       "  <tbody>\n",
       "    <tr>\n",
       "      <th>0</th>\n",
       "      <td>Demand No. 1</td>\n",
       "      <td>NaN</td>\n",
       "      <td>Department of Agriculture, Cooperation and Far...</td>\n",
       "      <td>Total</td>\n",
       "      <td>81342.71</td>\n",
       "      <td>NA</td>\n",
       "      <td>81342.71</td>\n",
       "      <td>116490</td>\n",
       "      <td>NA</td>\n",
       "      <td>116490</td>\n",
       "      <td>103162.3</td>\n",
       "      <td>NA</td>\n",
       "      <td>103162.3</td>\n",
       "      <td>105018.81</td>\n",
       "      <td>NA</td>\n",
       "      <td>105018.81</td>\n",
       "    </tr>\n",
       "    <tr>\n",
       "      <th>1</th>\n",
       "      <td>Demand No. 1</td>\n",
       "      <td>1</td>\n",
       "      <td>Department of Agriculture, Cooperation and Far...</td>\n",
       "      <td>Crop Insurance Scheme</td>\n",
       "      <td>12639.22</td>\n",
       "      <td>NA</td>\n",
       "      <td>12639.22</td>\n",
       "      <td>15695</td>\n",
       "      <td>NA</td>\n",
       "      <td>15695</td>\n",
       "      <td>15306.55</td>\n",
       "      <td>NA</td>\n",
       "      <td>15306.55</td>\n",
       "      <td>16000</td>\n",
       "      <td>NA</td>\n",
       "      <td>16000</td>\n",
       "    </tr>\n",
       "    <tr>\n",
       "      <th>2</th>\n",
       "      <td>Demand No. 1</td>\n",
       "      <td>2</td>\n",
       "      <td>Department of Agriculture, Cooperation and Far...</td>\n",
       "      <td>Interest Subsidy for Short Term Credit to Farmers</td>\n",
       "      <td>16218.74</td>\n",
       "      <td>NA</td>\n",
       "      <td>16218.74</td>\n",
       "      <td>21175</td>\n",
       "      <td>NA</td>\n",
       "      <td>21175</td>\n",
       "      <td>19831.75</td>\n",
       "      <td>NA</td>\n",
       "      <td>19831.75</td>\n",
       "      <td>19468.31</td>\n",
       "      <td>NA</td>\n",
       "      <td>19468.31</td>\n",
       "    </tr>\n",
       "    <tr>\n",
       "      <th>3</th>\n",
       "      <td>Demand No. 1</td>\n",
       "      <td>3</td>\n",
       "      <td>Department of Agriculture, Cooperation and Far...</td>\n",
       "      <td>Market Intervention Scheme and Price Support S...</td>\n",
       "      <td>2004.6</td>\n",
       "      <td>NA</td>\n",
       "      <td>2004.6</td>\n",
       "      <td>2000</td>\n",
       "      <td>NA</td>\n",
       "      <td>2000</td>\n",
       "      <td>996</td>\n",
       "      <td>NA</td>\n",
       "      <td>996</td>\n",
       "      <td>1500.5</td>\n",
       "      <td>NA</td>\n",
       "      <td>1500.5</td>\n",
       "    </tr>\n",
       "    <tr>\n",
       "      <th>4</th>\n",
       "      <td>Demand No. 1</td>\n",
       "      <td>4</td>\n",
       "      <td>Department of Agriculture, Cooperation and Far...</td>\n",
       "      <td>Pradhan Mantri Annadata Aay Sanrakshan Yojna (...</td>\n",
       "      <td>313.18</td>\n",
       "      <td>NA</td>\n",
       "      <td>313.18</td>\n",
       "      <td>500</td>\n",
       "      <td>NA</td>\n",
       "      <td>500</td>\n",
       "      <td>300</td>\n",
       "      <td>NA</td>\n",
       "      <td>300</td>\n",
       "      <td>400</td>\n",
       "      <td>NA</td>\n",
       "      <td>400</td>\n",
       "    </tr>\n",
       "  </tbody>\n",
       "</table>\n",
       "</div>"
      ],
      "text/plain": [
       "       Category Sl.No.                                Ministry/Department  \\\n",
       "0  Demand No. 1    NaN  Department of Agriculture, Cooperation and Far...   \n",
       "1  Demand No. 1      1  Department of Agriculture, Cooperation and Far...   \n",
       "2  Demand No. 1      2  Department of Agriculture, Cooperation and Far...   \n",
       "3  Demand No. 1      3  Department of Agriculture, Cooperation and Far...   \n",
       "4  Demand No. 1      4  Department of Agriculture, Cooperation and Far...   \n",
       "\n",
       "                                              Scheme  \\\n",
       "0                                              Total   \n",
       "1                              Crop Insurance Scheme   \n",
       "2  Interest Subsidy for Short Term Credit to Farmers   \n",
       "3  Market Intervention Scheme and Price Support S...   \n",
       "4  Pradhan Mantri Annadata Aay Sanrakshan Yojna (...   \n",
       "\n",
       "  Actuals2019-2020 - Revenue Actuals2019-2020 - Capital  \\\n",
       "0                   81342.71                         NA   \n",
       "1                   12639.22                         NA   \n",
       "2                   16218.74                         NA   \n",
       "3                     2004.6                         NA   \n",
       "4                     313.18                         NA   \n",
       "\n",
       "  Actuals2019-2020 - Total Budget Estimates2020-2021 - Revenue  \\\n",
       "0                 81342.71                              116490   \n",
       "1                 12639.22                               15695   \n",
       "2                 16218.74                               21175   \n",
       "3                   2004.6                                2000   \n",
       "4                   313.18                                 500   \n",
       "\n",
       "  Budget Estimates2020-2021 - Capital Budget Estimates2020-2021 - Total  \\\n",
       "0                                  NA                            116490   \n",
       "1                                  NA                             15695   \n",
       "2                                  NA                             21175   \n",
       "3                                  NA                              2000   \n",
       "4                                  NA                               500   \n",
       "\n",
       "  Revised Estimates2020-2021 - Revenue Revised Estimates2020-2021 - Capital  \\\n",
       "0                             103162.3                                   NA   \n",
       "1                             15306.55                                  NA    \n",
       "2                             19831.75                                  NA    \n",
       "3                                  996                                  NA    \n",
       "4                                  300                                  NA    \n",
       "\n",
       "  Revised Estimates2020-2021 - Total Budget Estimates2021-2022 - Revenue  \\\n",
       "0                           103162.3                           105018.81   \n",
       "1                           15306.55                               16000   \n",
       "2                           19831.75                            19468.31   \n",
       "3                                996                              1500.5   \n",
       "4                                300                                 400   \n",
       "\n",
       "  Budget Estimates2021-2022 - Capital Budget Estimates2021-2022 - Total  \n",
       "0                                  NA                         105018.81  \n",
       "1                                  NA                             16000  \n",
       "2                                  NA                          19468.31  \n",
       "3                                  NA                            1500.5  \n",
       "4                                  NA                               400  "
      ]
     },
     "execution_count": 35,
     "metadata": {},
     "output_type": "execute_result"
    }
   ],
   "source": [
    "df = pd.read_csv(\"CenterSectorScheme2021-22.csv\")\n",
    "df.head()"
   ]
  },
  {
   "cell_type": "code",
   "execution_count": 36,
   "metadata": {},
   "outputs": [
    {
     "data": {
      "text/plain": [
       "Index(['Category', 'Sl.No.', 'Ministry/Department', 'Scheme',\n",
       "       'Actuals2019-2020 - Revenue', 'Actuals2019-2020 - Capital',\n",
       "       'Actuals2019-2020 - Total', 'Budget Estimates2020-2021 - Revenue',\n",
       "       'Budget Estimates2020-2021 - Capital',\n",
       "       'Budget Estimates2020-2021 - Total',\n",
       "       'Revised Estimates2020-2021 - Revenue',\n",
       "       'Revised Estimates2020-2021 - Capital',\n",
       "       'Revised Estimates2020-2021 - Total',\n",
       "       'Budget Estimates2021-2022 - Revenue',\n",
       "       'Budget Estimates2021-2022 - Capital',\n",
       "       'Budget Estimates2021-2022 - Total'],\n",
       "      dtype='object')"
      ]
     },
     "execution_count": 36,
     "metadata": {},
     "output_type": "execute_result"
    }
   ],
   "source": [
    "df.columns"
   ]
  },
  {
   "cell_type": "code",
   "execution_count": 37,
   "metadata": {},
   "outputs": [
    {
     "name": "stdout",
     "output_type": "stream",
     "text": [
      "<class 'pandas.core.frame.DataFrame'>\n",
      "RangeIndex: 772 entries, 0 to 771\n",
      "Data columns (total 16 columns):\n",
      " #   Column                                Non-Null Count  Dtype \n",
      "---  ------                                --------------  ----- \n",
      " 0   Category                              771 non-null    object\n",
      " 1   Sl.No.                                705 non-null    object\n",
      " 2   Ministry/Department                   771 non-null    object\n",
      " 3   Scheme                                772 non-null    object\n",
      " 4   Actuals2019-2020 - Revenue            772 non-null    object\n",
      " 5   Actuals2019-2020 - Capital            772 non-null    object\n",
      " 6   Actuals2019-2020 - Total              772 non-null    object\n",
      " 7   Budget Estimates2020-2021 - Revenue   772 non-null    object\n",
      " 8   Budget Estimates2020-2021 - Capital   772 non-null    object\n",
      " 9   Budget Estimates2020-2021 - Total     772 non-null    object\n",
      " 10  Revised Estimates2020-2021 - Revenue  772 non-null    object\n",
      " 11  Revised Estimates2020-2021 - Capital  772 non-null    object\n",
      " 12  Revised Estimates2020-2021 - Total    772 non-null    object\n",
      " 13  Budget Estimates2021-2022 - Revenue   772 non-null    object\n",
      " 14  Budget Estimates2021-2022 - Capital   772 non-null    object\n",
      " 15  Budget Estimates2021-2022 - Total     772 non-null    object\n",
      "dtypes: object(16)\n",
      "memory usage: 96.6+ KB\n"
     ]
    }
   ],
   "source": [
    "df.info()"
   ]
  },
  {
   "cell_type": "code",
   "execution_count": 38,
   "metadata": {},
   "outputs": [
    {
     "data": {
      "text/plain": [
       "Category                                 1\n",
       "Sl.No.                                  67\n",
       "Ministry/Department                      1\n",
       "Scheme                                   0\n",
       "Actuals2019-2020 - Revenue               0\n",
       "Actuals2019-2020 - Capital               0\n",
       "Actuals2019-2020 - Total                 0\n",
       "Budget Estimates2020-2021 - Revenue      0\n",
       "Budget Estimates2020-2021 - Capital      0\n",
       "Budget Estimates2020-2021 - Total        0\n",
       "Revised Estimates2020-2021 - Revenue     0\n",
       "Revised Estimates2020-2021 - Capital     0\n",
       "Revised Estimates2020-2021 - Total       0\n",
       "Budget Estimates2021-2022 - Revenue      0\n",
       "Budget Estimates2021-2022 - Capital      0\n",
       "Budget Estimates2021-2022 - Total        0\n",
       "dtype: int64"
      ]
     },
     "execution_count": 38,
     "metadata": {},
     "output_type": "execute_result"
    }
   ],
   "source": [
    "df.isnull().sum()"
   ]
  },
  {
   "cell_type": "code",
   "execution_count": 39,
   "metadata": {},
   "outputs": [],
   "source": [
    "df.dropna(axis= 0, inplace= True)"
   ]
  },
  {
   "cell_type": "code",
   "execution_count": 40,
   "metadata": {},
   "outputs": [
    {
     "data": {
      "text/plain": [
       "Category                                0\n",
       "Sl.No.                                  0\n",
       "Ministry/Department                     0\n",
       "Scheme                                  0\n",
       "Actuals2019-2020 - Revenue              0\n",
       "Actuals2019-2020 - Capital              0\n",
       "Actuals2019-2020 - Total                0\n",
       "Budget Estimates2020-2021 - Revenue     0\n",
       "Budget Estimates2020-2021 - Capital     0\n",
       "Budget Estimates2020-2021 - Total       0\n",
       "Revised Estimates2020-2021 - Revenue    0\n",
       "Revised Estimates2020-2021 - Capital    0\n",
       "Revised Estimates2020-2021 - Total      0\n",
       "Budget Estimates2021-2022 - Revenue     0\n",
       "Budget Estimates2021-2022 - Capital     0\n",
       "Budget Estimates2021-2022 - Total       0\n",
       "dtype: int64"
      ]
     },
     "execution_count": 40,
     "metadata": {},
     "output_type": "execute_result"
    }
   ],
   "source": [
    "df.isnull().sum()"
   ]
  },
  {
   "cell_type": "code",
   "execution_count": 41,
   "metadata": {},
   "outputs": [
    {
     "data": {
      "text/plain": [
       " NA       105\n",
       "0.01       18\n",
       "150        17\n",
       "100        17\n",
       "10         14\n",
       "         ... \n",
       "37.75       1\n",
       "11          1\n",
       "695.69      1\n",
       "0.55        1\n",
       "657.71      1\n",
       "Name: Budget Estimates2021-2022 - Total, Length: 342, dtype: int64"
      ]
     },
     "execution_count": 41,
     "metadata": {},
     "output_type": "execute_result"
    }
   ],
   "source": [
    "df[\"Budget Estimates2021-2022 - Total\"].value_counts(dropna=False)"
   ]
  },
  {
   "cell_type": "code",
   "execution_count": 42,
   "metadata": {},
   "outputs": [
    {
     "ename": "ValueError",
     "evalue": "could not convert string to float: ' NA'",
     "output_type": "error",
     "traceback": [
      "\u001b[1;31m---------------------------------------------------------------------------\u001b[0m",
      "\u001b[1;31mValueError\u001b[0m                                Traceback (most recent call last)",
      "\u001b[1;32mc:\\Users\\TOSHIBA\\Desktop\\Projelerim\\Financial Budget\\FinancialBudgetAnalysis.ipynb Cell 9\u001b[0m in \u001b[0;36m<cell line: 1>\u001b[1;34m()\u001b[0m\n\u001b[1;32m----> <a href='vscode-notebook-cell:/c%3A/Users/TOSHIBA/Desktop/Projelerim/Financial%20Budget/FinancialBudgetAnalysis.ipynb#X10sZmlsZQ%3D%3D?line=0'>1</a>\u001b[0m df[\u001b[39m\"\u001b[39m\u001b[39mBudget Estimates2021-2022 - Total\u001b[39m\u001b[39m\"\u001b[39m] \u001b[39m=\u001b[39m df[\u001b[39m\"\u001b[39;49m\u001b[39mBudget Estimates2021-2022 - Total\u001b[39;49m\u001b[39m\"\u001b[39;49m]\u001b[39m.\u001b[39;49mastype(\u001b[39mfloat\u001b[39;49m)\n",
      "File \u001b[1;32mc:\\Users\\TOSHIBA\\anaconda3\\envs\\pythonProject\\lib\\site-packages\\pandas\\core\\generic.py:5912\u001b[0m, in \u001b[0;36mNDFrame.astype\u001b[1;34m(self, dtype, copy, errors)\u001b[0m\n\u001b[0;32m   5905\u001b[0m     results \u001b[39m=\u001b[39m [\n\u001b[0;32m   5906\u001b[0m         \u001b[39mself\u001b[39m\u001b[39m.\u001b[39miloc[:, i]\u001b[39m.\u001b[39mastype(dtype, copy\u001b[39m=\u001b[39mcopy)\n\u001b[0;32m   5907\u001b[0m         \u001b[39mfor\u001b[39;00m i \u001b[39min\u001b[39;00m \u001b[39mrange\u001b[39m(\u001b[39mlen\u001b[39m(\u001b[39mself\u001b[39m\u001b[39m.\u001b[39mcolumns))\n\u001b[0;32m   5908\u001b[0m     ]\n\u001b[0;32m   5910\u001b[0m \u001b[39melse\u001b[39;00m:\n\u001b[0;32m   5911\u001b[0m     \u001b[39m# else, only a single dtype is given\u001b[39;00m\n\u001b[1;32m-> 5912\u001b[0m     new_data \u001b[39m=\u001b[39m \u001b[39mself\u001b[39;49m\u001b[39m.\u001b[39;49m_mgr\u001b[39m.\u001b[39;49mastype(dtype\u001b[39m=\u001b[39;49mdtype, copy\u001b[39m=\u001b[39;49mcopy, errors\u001b[39m=\u001b[39;49merrors)\n\u001b[0;32m   5913\u001b[0m     \u001b[39mreturn\u001b[39;00m \u001b[39mself\u001b[39m\u001b[39m.\u001b[39m_constructor(new_data)\u001b[39m.\u001b[39m__finalize__(\u001b[39mself\u001b[39m, method\u001b[39m=\u001b[39m\u001b[39m\"\u001b[39m\u001b[39mastype\u001b[39m\u001b[39m\"\u001b[39m)\n\u001b[0;32m   5915\u001b[0m \u001b[39m# GH 33113: handle empty frame or series\u001b[39;00m\n",
      "File \u001b[1;32mc:\\Users\\TOSHIBA\\anaconda3\\envs\\pythonProject\\lib\\site-packages\\pandas\\core\\internals\\managers.py:419\u001b[0m, in \u001b[0;36mBaseBlockManager.astype\u001b[1;34m(self, dtype, copy, errors)\u001b[0m\n\u001b[0;32m    418\u001b[0m \u001b[39mdef\u001b[39;00m \u001b[39mastype\u001b[39m(\u001b[39mself\u001b[39m: T, dtype, copy: \u001b[39mbool\u001b[39m \u001b[39m=\u001b[39m \u001b[39mFalse\u001b[39;00m, errors: \u001b[39mstr\u001b[39m \u001b[39m=\u001b[39m \u001b[39m\"\u001b[39m\u001b[39mraise\u001b[39m\u001b[39m\"\u001b[39m) \u001b[39m-\u001b[39m\u001b[39m>\u001b[39m T:\n\u001b[1;32m--> 419\u001b[0m     \u001b[39mreturn\u001b[39;00m \u001b[39mself\u001b[39;49m\u001b[39m.\u001b[39;49mapply(\u001b[39m\"\u001b[39;49m\u001b[39mastype\u001b[39;49m\u001b[39m\"\u001b[39;49m, dtype\u001b[39m=\u001b[39;49mdtype, copy\u001b[39m=\u001b[39;49mcopy, errors\u001b[39m=\u001b[39;49merrors)\n",
      "File \u001b[1;32mc:\\Users\\TOSHIBA\\anaconda3\\envs\\pythonProject\\lib\\site-packages\\pandas\\core\\internals\\managers.py:304\u001b[0m, in \u001b[0;36mBaseBlockManager.apply\u001b[1;34m(self, f, align_keys, ignore_failures, **kwargs)\u001b[0m\n\u001b[0;32m    302\u001b[0m         applied \u001b[39m=\u001b[39m b\u001b[39m.\u001b[39mapply(f, \u001b[39m*\u001b[39m\u001b[39m*\u001b[39mkwargs)\n\u001b[0;32m    303\u001b[0m     \u001b[39melse\u001b[39;00m:\n\u001b[1;32m--> 304\u001b[0m         applied \u001b[39m=\u001b[39m \u001b[39mgetattr\u001b[39m(b, f)(\u001b[39m*\u001b[39m\u001b[39m*\u001b[39mkwargs)\n\u001b[0;32m    305\u001b[0m \u001b[39mexcept\u001b[39;00m (\u001b[39mTypeError\u001b[39;00m, \u001b[39mNotImplementedError\u001b[39;00m):\n\u001b[0;32m    306\u001b[0m     \u001b[39mif\u001b[39;00m \u001b[39mnot\u001b[39;00m ignore_failures:\n",
      "File \u001b[1;32mc:\\Users\\TOSHIBA\\anaconda3\\envs\\pythonProject\\lib\\site-packages\\pandas\\core\\internals\\blocks.py:580\u001b[0m, in \u001b[0;36mBlock.astype\u001b[1;34m(self, dtype, copy, errors)\u001b[0m\n\u001b[0;32m    562\u001b[0m \u001b[39m\"\"\"\u001b[39;00m\n\u001b[0;32m    563\u001b[0m \u001b[39mCoerce to the new dtype.\u001b[39;00m\n\u001b[0;32m    564\u001b[0m \n\u001b[1;32m   (...)\u001b[0m\n\u001b[0;32m    576\u001b[0m \u001b[39mBlock\u001b[39;00m\n\u001b[0;32m    577\u001b[0m \u001b[39m\"\"\"\u001b[39;00m\n\u001b[0;32m    578\u001b[0m values \u001b[39m=\u001b[39m \u001b[39mself\u001b[39m\u001b[39m.\u001b[39mvalues\n\u001b[1;32m--> 580\u001b[0m new_values \u001b[39m=\u001b[39m astype_array_safe(values, dtype, copy\u001b[39m=\u001b[39;49mcopy, errors\u001b[39m=\u001b[39;49merrors)\n\u001b[0;32m    582\u001b[0m new_values \u001b[39m=\u001b[39m maybe_coerce_values(new_values)\n\u001b[0;32m    583\u001b[0m newb \u001b[39m=\u001b[39m \u001b[39mself\u001b[39m\u001b[39m.\u001b[39mmake_block(new_values)\n",
      "File \u001b[1;32mc:\\Users\\TOSHIBA\\anaconda3\\envs\\pythonProject\\lib\\site-packages\\pandas\\core\\dtypes\\cast.py:1292\u001b[0m, in \u001b[0;36mastype_array_safe\u001b[1;34m(values, dtype, copy, errors)\u001b[0m\n\u001b[0;32m   1289\u001b[0m     dtype \u001b[39m=\u001b[39m dtype\u001b[39m.\u001b[39mnumpy_dtype\n\u001b[0;32m   1291\u001b[0m \u001b[39mtry\u001b[39;00m:\n\u001b[1;32m-> 1292\u001b[0m     new_values \u001b[39m=\u001b[39m astype_array(values, dtype, copy\u001b[39m=\u001b[39;49mcopy)\n\u001b[0;32m   1293\u001b[0m \u001b[39mexcept\u001b[39;00m (\u001b[39mValueError\u001b[39;00m, \u001b[39mTypeError\u001b[39;00m):\n\u001b[0;32m   1294\u001b[0m     \u001b[39m# e.g. astype_nansafe can fail on object-dtype of strings\u001b[39;00m\n\u001b[0;32m   1295\u001b[0m     \u001b[39m#  trying to convert to float\u001b[39;00m\n\u001b[0;32m   1296\u001b[0m     \u001b[39mif\u001b[39;00m errors \u001b[39m==\u001b[39m \u001b[39m\"\u001b[39m\u001b[39mignore\u001b[39m\u001b[39m\"\u001b[39m:\n",
      "File \u001b[1;32mc:\\Users\\TOSHIBA\\anaconda3\\envs\\pythonProject\\lib\\site-packages\\pandas\\core\\dtypes\\cast.py:1237\u001b[0m, in \u001b[0;36mastype_array\u001b[1;34m(values, dtype, copy)\u001b[0m\n\u001b[0;32m   1234\u001b[0m     values \u001b[39m=\u001b[39m values\u001b[39m.\u001b[39mastype(dtype, copy\u001b[39m=\u001b[39mcopy)\n\u001b[0;32m   1236\u001b[0m \u001b[39melse\u001b[39;00m:\n\u001b[1;32m-> 1237\u001b[0m     values \u001b[39m=\u001b[39m astype_nansafe(values, dtype, copy\u001b[39m=\u001b[39;49mcopy)\n\u001b[0;32m   1239\u001b[0m \u001b[39m# in pandas we don't store numpy str dtypes, so convert to object\u001b[39;00m\n\u001b[0;32m   1240\u001b[0m \u001b[39mif\u001b[39;00m \u001b[39misinstance\u001b[39m(dtype, np\u001b[39m.\u001b[39mdtype) \u001b[39mand\u001b[39;00m \u001b[39missubclass\u001b[39m(values\u001b[39m.\u001b[39mdtype\u001b[39m.\u001b[39mtype, \u001b[39mstr\u001b[39m):\n",
      "File \u001b[1;32mc:\\Users\\TOSHIBA\\anaconda3\\envs\\pythonProject\\lib\\site-packages\\pandas\\core\\dtypes\\cast.py:1181\u001b[0m, in \u001b[0;36mastype_nansafe\u001b[1;34m(arr, dtype, copy, skipna)\u001b[0m\n\u001b[0;32m   1177\u001b[0m     \u001b[39mraise\u001b[39;00m \u001b[39mValueError\u001b[39;00m(msg)\n\u001b[0;32m   1179\u001b[0m \u001b[39mif\u001b[39;00m copy \u001b[39mor\u001b[39;00m is_object_dtype(arr\u001b[39m.\u001b[39mdtype) \u001b[39mor\u001b[39;00m is_object_dtype(dtype):\n\u001b[0;32m   1180\u001b[0m     \u001b[39m# Explicit copy, or required since NumPy can't view from / to object.\u001b[39;00m\n\u001b[1;32m-> 1181\u001b[0m     \u001b[39mreturn\u001b[39;00m arr\u001b[39m.\u001b[39;49mastype(dtype, copy\u001b[39m=\u001b[39;49m\u001b[39mTrue\u001b[39;49;00m)\n\u001b[0;32m   1183\u001b[0m \u001b[39mreturn\u001b[39;00m arr\u001b[39m.\u001b[39mastype(dtype, copy\u001b[39m=\u001b[39mcopy)\n",
      "\u001b[1;31mValueError\u001b[0m: could not convert string to float: ' NA'"
     ]
    }
   ],
   "source": [
    "df[\"Budget Estimates2021-2022 - Total\"] = df[\"Budget Estimates2021-2022 - Total\"].astype(float)"
   ]
  },
  {
   "cell_type": "code",
   "execution_count": 43,
   "metadata": {},
   "outputs": [
    {
     "data": {
      "text/plain": [
       "Ministry/Department\n",
       "Atomic Energy                                                   NA1256.73 NA300 NA180 NA15075 NA650196 NA1031...\n",
       "Capital Outlay on Defence Services                             29155724223.8267323490.11001001517 NA171002551...\n",
       "Department for Promotion of Industry and Internal Trade        1501312.72000 NA245.5890.49 NA NA83030020.8312...\n",
       "Department of Agricultural Research and Education                               32865195557082124830216035533225\n",
       "Department of Agriculture, Cooperation and Farmers' Welfare            1600019468.311500.54003007006500050700900\n",
       "                                                                                     ...                        \n",
       "Ministry of Textiles                                           700136220115513.51061.534.3218743055299.52636 ...\n",
       "Ministry of Tourism                                                              6300.03153305524.02144.77563.65\n",
       "Ministry of Tribal Affairs                                                                 15030.011501101418.04\n",
       "Ministry of Youth Affairs and Sports                                         165142175141.56283.853252657.715030\n",
       "Police                                                                            77140.152130.323612.29510069.8\n",
       "Name: Budget Estimates2021-2022 - Total, Length: 67, dtype: object"
      ]
     },
     "execution_count": 43,
     "metadata": {},
     "output_type": "execute_result"
    }
   ],
   "source": [
    "df.groupby(\"Ministry/Department\")[\"Budget Estimates2021-2022 - Total\"].sum()"
   ]
  },
  {
   "cell_type": "code",
   "execution_count": null,
   "metadata": {},
   "outputs": [
    {
     "data": {
      "text/plain": [
       "Ministry of Textiles                                46\n",
       "Department of Higher Education                      40\n",
       "Ministry of Micro, Small and Medium Enterprises     33\n",
       "Ministry of Railways                                32\n",
       "Department of Financial Services                    30\n",
       "                                                    ..\n",
       "Department of Land Resources                         2\n",
       "Ministry of Steel                                    2\n",
       "Ministry of Food Processing Industries               2\n",
       "Department of Expenditure                            2\n",
       "NaN                                                  1\n",
       "Name: Ministry/Department, Length: 68, dtype: int64"
      ]
     },
     "execution_count": 9,
     "metadata": {},
     "output_type": "execute_result"
    }
   ],
   "source": [
    "df[\"Ministry/Department\"].value_counts(dropna = False)"
   ]
  },
  {
   "cell_type": "code",
   "execution_count": null,
   "metadata": {},
   "outputs": [
    {
     "ename": "TypeError",
     "evalue": "can only concatenate str (not \"float\") to str",
     "output_type": "error",
     "traceback": [
      "\u001b[1;31m---------------------------------------------------------------------------\u001b[0m",
      "\u001b[1;31mTypeError\u001b[0m                                 Traceback (most recent call last)",
      "\u001b[1;32mc:\\Users\\TOSHIBA\\Desktop\\Projelerim\\Financial Budget\\FinancialBudgetAnalysis.ipynb Cell 4\u001b[0m in \u001b[0;36m<cell line: 1>\u001b[1;34m()\u001b[0m\n\u001b[1;32m----> <a href='vscode-notebook-cell:/c%3A/Users/TOSHIBA/Desktop/Projelerim/Financial%20Budget/FinancialBudgetAnalysis.ipynb#W3sZmlsZQ%3D%3D?line=0'>1</a>\u001b[0m df[\u001b[39m\"\u001b[39;49m\u001b[39mMinistry/Department\u001b[39;49m\u001b[39m\"\u001b[39;49m]\u001b[39m.\u001b[39;49mvalues\u001b[39m.\u001b[39;49msum()\n",
      "File \u001b[1;32mc:\\Users\\TOSHIBA\\anaconda3\\envs\\pythonProject\\lib\\site-packages\\numpy\\core\\_methods.py:48\u001b[0m, in \u001b[0;36m_sum\u001b[1;34m(a, axis, dtype, out, keepdims, initial, where)\u001b[0m\n\u001b[0;32m     46\u001b[0m \u001b[39mdef\u001b[39;00m \u001b[39m_sum\u001b[39m(a, axis\u001b[39m=\u001b[39m\u001b[39mNone\u001b[39;00m, dtype\u001b[39m=\u001b[39m\u001b[39mNone\u001b[39;00m, out\u001b[39m=\u001b[39m\u001b[39mNone\u001b[39;00m, keepdims\u001b[39m=\u001b[39m\u001b[39mFalse\u001b[39;00m,\n\u001b[0;32m     47\u001b[0m          initial\u001b[39m=\u001b[39m_NoValue, where\u001b[39m=\u001b[39m\u001b[39mTrue\u001b[39;00m):\n\u001b[1;32m---> 48\u001b[0m     \u001b[39mreturn\u001b[39;00m umr_sum(a, axis, dtype, out, keepdims, initial, where)\n",
      "\u001b[1;31mTypeError\u001b[0m: can only concatenate str (not \"float\") to str"
     ]
    }
   ],
   "source": [
    "df[\"Ministry/Department\"].values.sum()"
   ]
  }
 ],
 "metadata": {
  "kernelspec": {
   "display_name": "pythonProject",
   "language": "python",
   "name": "python3"
  },
  "language_info": {
   "codemirror_mode": {
    "name": "ipython",
    "version": 3
   },
   "file_extension": ".py",
   "mimetype": "text/x-python",
   "name": "python",
   "nbconvert_exporter": "python",
   "pygments_lexer": "ipython3",
   "version": "3.9.12"
  },
  "orig_nbformat": 4,
  "vscode": {
   "interpreter": {
    "hash": "45a60c048f4ccd6c48c495f838e9ad694b36421548fddd91d87e2ee8d4b585bd"
   }
  }
 },
 "nbformat": 4,
 "nbformat_minor": 2
}
