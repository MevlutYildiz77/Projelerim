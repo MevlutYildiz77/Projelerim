{
 "cells": [
  {
   "cell_type": "code",
   "execution_count": 1,
   "metadata": {},
   "outputs": [],
   "source": [
    "import pandas as pd"
   ]
  },
  {
   "cell_type": "code",
   "execution_count": 2,
   "metadata": {},
   "outputs": [
    {
     "data": {
      "text/html": [
       "<div>\n",
       "<style scoped>\n",
       "    .dataframe tbody tr th:only-of-type {\n",
       "        vertical-align: middle;\n",
       "    }\n",
       "\n",
       "    .dataframe tbody tr th {\n",
       "        vertical-align: top;\n",
       "    }\n",
       "\n",
       "    .dataframe thead th {\n",
       "        text-align: right;\n",
       "    }\n",
       "</style>\n",
       "<table border=\"1\" class=\"dataframe\">\n",
       "  <thead>\n",
       "    <tr style=\"text-align: right;\">\n",
       "      <th></th>\n",
       "      <th>index</th>\n",
       "      <th>MovieID</th>\n",
       "      <th>Title</th>\n",
       "      <th>Lifetime Gross</th>\n",
       "      <th>Year</th>\n",
       "      <th>Studio</th>\n",
       "      <th>Rating</th>\n",
       "      <th>Runtime</th>\n",
       "      <th>Budget</th>\n",
       "      <th>ReleaseDate</th>\n",
       "      <th>VoteAvg</th>\n",
       "      <th>VoteCount</th>\n",
       "      <th>FranchiseID</th>\n",
       "    </tr>\n",
       "  </thead>\n",
       "  <tbody>\n",
       "    <tr>\n",
       "      <th>0</th>\n",
       "      <td>0</td>\n",
       "      <td>1001</td>\n",
       "      <td>Star Wars: Episode IV - A New Hope</td>\n",
       "      <td>775398007</td>\n",
       "      <td>1977</td>\n",
       "      <td>Lucasfilm</td>\n",
       "      <td>PG</td>\n",
       "      <td>121.0</td>\n",
       "      <td>11000000.0</td>\n",
       "      <td>05-25-77</td>\n",
       "      <td>4.09</td>\n",
       "      <td>96233.0</td>\n",
       "      <td>101.0</td>\n",
       "    </tr>\n",
       "    <tr>\n",
       "      <th>1</th>\n",
       "      <td>1</td>\n",
       "      <td>1002</td>\n",
       "      <td>Star Wars: Episode V - The Empire Strikes Back</td>\n",
       "      <td>538375067</td>\n",
       "      <td>1980</td>\n",
       "      <td>Lucasfilm</td>\n",
       "      <td>PG</td>\n",
       "      <td>124.0</td>\n",
       "      <td>18000000.0</td>\n",
       "      <td>06-20-80</td>\n",
       "      <td>4.12</td>\n",
       "      <td>79231.0</td>\n",
       "      <td>101.0</td>\n",
       "    </tr>\n",
       "    <tr>\n",
       "      <th>2</th>\n",
       "      <td>2</td>\n",
       "      <td>1003</td>\n",
       "      <td>Star Wars: Episode VI - Return of the Jedi</td>\n",
       "      <td>475106177</td>\n",
       "      <td>1983</td>\n",
       "      <td>Lucasfilm</td>\n",
       "      <td>PG</td>\n",
       "      <td>135.0</td>\n",
       "      <td>32500000.0</td>\n",
       "      <td>05-25-83</td>\n",
       "      <td>3.98</td>\n",
       "      <td>76082.0</td>\n",
       "      <td>101.0</td>\n",
       "    </tr>\n",
       "    <tr>\n",
       "      <th>3</th>\n",
       "      <td>3</td>\n",
       "      <td>1004</td>\n",
       "      <td>Jurassic Park</td>\n",
       "      <td>1109802321</td>\n",
       "      <td>1993</td>\n",
       "      <td>Universal Pictures</td>\n",
       "      <td>PG-13</td>\n",
       "      <td>127.0</td>\n",
       "      <td>63000000.0</td>\n",
       "      <td>06-11-93</td>\n",
       "      <td>3.69</td>\n",
       "      <td>82700.0</td>\n",
       "      <td>102.0</td>\n",
       "    </tr>\n",
       "    <tr>\n",
       "      <th>4</th>\n",
       "      <td>4</td>\n",
       "      <td>1005</td>\n",
       "      <td>The Lost World: Jurassic Park</td>\n",
       "      <td>618638999</td>\n",
       "      <td>1997</td>\n",
       "      <td>Universal Pictures</td>\n",
       "      <td>PG-13</td>\n",
       "      <td>129.0</td>\n",
       "      <td>73000000.0</td>\n",
       "      <td>05-23-97</td>\n",
       "      <td>3.01</td>\n",
       "      <td>19721.0</td>\n",
       "      <td>102.0</td>\n",
       "    </tr>\n",
       "  </tbody>\n",
       "</table>\n",
       "</div>"
      ],
      "text/plain": [
       "   index MovieID                                           Title  \\\n",
       "0      0    1001              Star Wars: Episode IV - A New Hope   \n",
       "1      1    1002  Star Wars: Episode V - The Empire Strikes Back   \n",
       "2      2    1003      Star Wars: Episode VI - Return of the Jedi   \n",
       "3      3    1004                                   Jurassic Park   \n",
       "4      4    1005                   The Lost World: Jurassic Park   \n",
       "\n",
       "  Lifetime Gross  Year              Studio Rating  Runtime      Budget  \\\n",
       "0      775398007  1977           Lucasfilm     PG    121.0  11000000.0   \n",
       "1      538375067  1980           Lucasfilm     PG    124.0  18000000.0   \n",
       "2      475106177  1983           Lucasfilm     PG    135.0  32500000.0   \n",
       "3     1109802321  1993  Universal Pictures  PG-13    127.0  63000000.0   \n",
       "4      618638999  1997  Universal Pictures  PG-13    129.0  73000000.0   \n",
       "\n",
       "  ReleaseDate  VoteAvg  VoteCount  FranchiseID  \n",
       "0    05-25-77     4.09    96233.0        101.0  \n",
       "1    06-20-80     4.12    79231.0        101.0  \n",
       "2    05-25-83     3.98    76082.0        101.0  \n",
       "3    06-11-93     3.69    82700.0        102.0  \n",
       "4    05-23-97     3.01    19721.0        102.0  "
      ]
     },
     "execution_count": 2,
     "metadata": {},
     "output_type": "execute_result"
    }
   ],
   "source": [
    "df= pd.read_csv(\"MovieFranchises.csv\")\n",
    "df.head()"
   ]
  },
  {
   "cell_type": "code",
   "execution_count": 4,
   "metadata": {},
   "outputs": [
    {
     "name": "stdout",
     "output_type": "stream",
     "text": [
      "<class 'pandas.core.frame.DataFrame'>\n",
      "RangeIndex: 605 entries, 0 to 604\n",
      "Data columns (total 13 columns):\n",
      " #   Column          Non-Null Count  Dtype  \n",
      "---  ------          --------------  -----  \n",
      " 0   index           605 non-null    int64  \n",
      " 1   MovieID         605 non-null    object \n",
      " 2   Title           605 non-null    object \n",
      " 3   Lifetime Gross  605 non-null    object \n",
      " 4   Year            66 non-null     object \n",
      " 5   Studio          60 non-null     object \n",
      " 6   Rating          60 non-null     object \n",
      " 7   Runtime         60 non-null     float64\n",
      " 8   Budget          60 non-null     float64\n",
      " 9   ReleaseDate     60 non-null     object \n",
      " 10  VoteAvg         60 non-null     float64\n",
      " 11  VoteCount       60 non-null     float64\n",
      " 12  FranchiseID     60 non-null     float64\n",
      "dtypes: float64(5), int64(1), object(7)\n",
      "memory usage: 61.6+ KB\n"
     ]
    }
   ],
   "source": [
    "df.info()"
   ]
  },
  {
   "cell_type": "code",
   "execution_count": 3,
   "metadata": {},
   "outputs": [
    {
     "data": {
      "text/plain": [
       "index               0\n",
       "MovieID             0\n",
       "Title               0\n",
       "Lifetime Gross      0\n",
       "Year              539\n",
       "Studio            545\n",
       "Rating            545\n",
       "Runtime           545\n",
       "Budget            545\n",
       "ReleaseDate       545\n",
       "VoteAvg           545\n",
       "VoteCount         545\n",
       "FranchiseID       545\n",
       "dtype: int64"
      ]
     },
     "execution_count": 3,
     "metadata": {},
     "output_type": "execute_result"
    }
   ],
   "source": [
    "df.isnull().sum()"
   ]
  }
 ],
 "metadata": {
  "kernelspec": {
   "display_name": "pythonProject",
   "language": "python",
   "name": "python3"
  },
  "language_info": {
   "codemirror_mode": {
    "name": "ipython",
    "version": 3
   },
   "file_extension": ".py",
   "mimetype": "text/x-python",
   "name": "python",
   "nbconvert_exporter": "python",
   "pygments_lexer": "ipython3",
   "version": "3.9.12"
  },
  "orig_nbformat": 4,
  "vscode": {
   "interpreter": {
    "hash": "45a60c048f4ccd6c48c495f838e9ad694b36421548fddd91d87e2ee8d4b585bd"
   }
  }
 },
 "nbformat": 4,
 "nbformat_minor": 2
}
